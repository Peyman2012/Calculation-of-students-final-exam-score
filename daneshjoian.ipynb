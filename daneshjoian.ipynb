{
 "cells": [
  {
   "cell_type": "code",
   "execution_count": 1,
   "metadata": {},
   "outputs": [
    {
     "name": "stdout",
     "output_type": "stream",
     "text": [
      "Enter grade for quiz one:12\n"
     ]
    }
   ],
   "source": [
    "quiz1=int(input(\"Enter grade for quiz one:\"))"
   ]
  },
  {
   "cell_type": "code",
   "execution_count": 2,
   "metadata": {},
   "outputs": [
    {
     "name": "stdout",
     "output_type": "stream",
     "text": [
      "Enter grade for quiz two:15\n"
     ]
    }
   ],
   "source": [
    "quiz2=int(input(\"Enter grade for quiz two:\"))"
   ]
  },
  {
   "cell_type": "code",
   "execution_count": 3,
   "metadata": {},
   "outputs": [
    {
     "name": "stdout",
     "output_type": "stream",
     "text": [
      "Enter grade for mid term:30\n"
     ]
    }
   ],
   "source": [
    "midterm=int(input(\"Enter grade for mid term:\"))"
   ]
  },
  {
   "cell_type": "code",
   "execution_count": 4,
   "metadata": {},
   "outputs": [
    {
     "name": "stdout",
     "output_type": "stream",
     "text": [
      "Enter grade for final:45\n"
     ]
    }
   ],
   "source": [
    "final=int(input(\"Enter grade for final:\"))"
   ]
  },
  {
   "cell_type": "code",
   "execution_count": 7,
   "metadata": {},
   "outputs": [],
   "source": [
    "grade=((quiz1+quiz2)*5)*0.25+midterm*0.25+final*0.5"
   ]
  },
  {
   "cell_type": "code",
   "execution_count": 8,
   "metadata": {},
   "outputs": [
    {
     "name": "stdout",
     "output_type": "stream",
     "text": [
      "Grade is D\n"
     ]
    }
   ],
   "source": [
    "if grade>=90:\n",
    "    print(\"Grade is A\")\n",
    "elif grade>=80 and grade<90:\n",
    "    print(\"Grade is B\")\n",
    "elif grade>=70 and grade<80:\n",
    "    print(\"Grade is C\")\n",
    "elif grade>=60:\n",
    "    print(\"Grade is D\")\n",
    "else:\n",
    "    print(\"Grade is E\")"
   ]
  },
  {
   "cell_type": "code",
   "execution_count": null,
   "metadata": {},
   "outputs": [],
   "source": []
  }
 ],
 "metadata": {
  "kernelspec": {
   "display_name": "Python 3",
   "language": "python",
   "name": "python3"
  },
  "language_info": {
   "codemirror_mode": {
    "name": "ipython",
    "version": 3
   },
   "file_extension": ".py",
   "mimetype": "text/x-python",
   "name": "python",
   "nbconvert_exporter": "python",
   "pygments_lexer": "ipython3",
   "version": "3.6.13"
  }
 },
 "nbformat": 4,
 "nbformat_minor": 2
}
